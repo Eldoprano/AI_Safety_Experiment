{
 "cells": [
  {
   "cell_type": "markdown",
   "metadata": {},
   "source": [
    "# Constitutional AI: Exploring Self-Critique in Uncensored Models"
   ]
  },
  {
   "cell_type": "markdown",
   "metadata": {},
   "source": [
    "1. Install the required packages"
   ]
  },
  {
   "cell_type": "code",
   "execution_count": null,
   "metadata": {},
   "outputs": [],
   "source": [
    "!pip install -r requirements.txt"
   ]
  },
  {
   "cell_type": "markdown",
   "metadata": {},
   "source": [
    "2. Run the experiments"
   ]
  },
  {
   "cell_type": "code",
   "execution_count": null,
   "metadata": {},
   "outputs": [],
   "source": [
    "import json\n",
    "from tqdm import tqdm\n",
    "import torch\n",
    "from transformers import AutoModelForCausalLM, AutoTokenizer\n",
    "\n",
    "# Load the JSON files\n",
    "with open('Constitutional_AI_Principles.json', 'r') as f:\n",
    "    principles = json.load(f)\n",
    "\n",
    "with open('prompts.json', 'r') as f:\n",
    "    prompts = json.load(f)\n",
    "\n",
    "# Load the model and tokenizer from Hugging Face\n",
    "model_name = \"georgesung/llama2_7b_chat_uncensored\"\n",
    "# model_name = \"georgesung/llama3_8b_chat_uncensored\"\n",
    "\n",
    "device = \"cuda\" if torch.cuda.is_available() else \"cpu\"\n",
    "\n",
    "tokenizer = AutoTokenizer.from_pretrained(model_name)\n",
    "model = AutoModelForCausalLM.from_pretrained(model_name).to(device)\n",
    "\n",
    "# Define the function to get a response\n",
    "def get_response(prompt, context=None, max_length=128):\n",
    "    # Format context as a natural conversation\n",
    "    if context:\n",
    "        conversation = \"\"\n",
    "        if \"context\" in context:\n",
    "            conversation += f\"{context['context']}\\n\"\n",
    "        if \"initial_response\" in context:\n",
    "            conversation += f\"Assistant: {context['initial_response']}\\n\"\n",
    "        if \"critique\" in context:\n",
    "            conversation += f\"{context['critique']}\\n\"\n",
    "            \n",
    "        formatted_prompt = f\"{conversation}{prompt}\"\n",
    "    else:\n",
    "        formatted_prompt = prompt\n",
    "\n",
    "    # Tokenize input\n",
    "    input_ids = tokenizer.encode(formatted_prompt, return_tensors=\"pt\").to(device)\n",
    "\n",
    "    # Generate response\n",
    "    output_ids = model.generate(\n",
    "        input_ids,\n",
    "        max_length=max_length,\n",
    "        temperature=0.7,\n",
    "        top_p=0.9,\n",
    "        do_sample=True,\n",
    "        pad_token_id=tokenizer.eos_token_id\n",
    "    )\n",
    "\n",
    "    # Decode and return the output\n",
    "    response = tokenizer.decode(output_ids[0], skip_special_tokens=True)\n",
    "    return response[len(formatted_prompt):].strip()  # Remove the prompt from the output\n",
    "\n",
    "# Modified version with context tracking\n",
    "interactions = {\"neutral\": {}, \"negative\": {}}\n",
    "\n",
    "for critique_type, categories in tqdm(prompts.items(), desc=\"Critique Types\"):\n",
    "    for category, prompts in tqdm(categories.items(), desc=\"Categories\", leave=False):\n",
    "        interactions[critique_type][category] = []\n",
    "        \n",
    "        for prompt in tqdm(prompts, desc=\"Prompts\", leave=False):\n",
    "            # Initialize conversation context\n",
    "            conversation_history = {}\n",
    "            print(f\"📝 Generating interactions for {category} with {critique_type} critique\")\n",
    "\n",
    "            print(f\"📝 Prompt: {prompt}\")\n",
    "            # Get initial response with context\n",
    "            initial_response = get_response(prompt, context=conversation_history)\n",
    "            conversation_history = {\"context\": prompt}\n",
    "            conversation_history[\"initial_response\"] = initial_response['response']\n",
    "            print(f\"🤖 Initial response: {initial_response['response']}\")\n",
    "            \n",
    "            # Get critique with updated context\n",
    "            critique_prompt = principles[0][\"CritiqueRequest\"] # We currently only use the first critique principle\n",
    "            critique_response = get_response(critique_prompt, context=conversation_history)\n",
    "            print(f\"🤖 Critique: {critique_response['response']}\")\n",
    "            \n",
    "            # Update context with critique\n",
    "            conversation_history[\"critique\"] = critique_response['response']\n",
    "            \n",
    "            # Get revision with full context\n",
    "            revision_prompt = principles[0][\"RevisionRequest\"] # We currently only use the first revision principle\n",
    "            revised_response = get_response(revision_prompt, context=conversation_history)\n",
    "            print(f\"🤖 Revised response: {revised_response['response']}\")\n",
    "            \n",
    "            # Save the complete interaction with context\n",
    "            interaction = {\n",
    "                \"prompt\": prompt,\n",
    "                \"initial_response\": initial_response['response'],\n",
    "                \"critique\": critique_response['response'],\n",
    "                \"revised_response\": revised_response['response']\n",
    "            }\n",
    "            \n",
    "            interactions[critique_type][category].append(interaction)\n",
    "            # Write to file\n",
    "            with open(\"interactions.json\", 'w') as f:\n",
    "                json.dump(interactions, f, indent=4)\n",
    "            print(f\"✅ Interaction saved\\n\")"
   ]
  }
 ],
 "metadata": {
  "kernelspec": {
   "display_name": ".venv",
   "language": "python",
   "name": "python3"
  },
  "language_info": {
   "codemirror_mode": {
    "name": "ipython",
    "version": 3
   },
   "file_extension": ".py",
   "mimetype": "text/x-python",
   "name": "python",
   "nbconvert_exporter": "python",
   "pygments_lexer": "ipython3",
   "version": "3.11.2"
  }
 },
 "nbformat": 4,
 "nbformat_minor": 2
}
